{
 "cells": [
  {
   "cell_type": "code",
   "execution_count": 2,
   "id": "c950e86a",
   "metadata": {},
   "outputs": [
    {
     "name": "stderr",
     "output_type": "stream",
     "text": [
      "/home/akinwilson/.local/share/virtualenvs/transformer-ZSDFiGtT/lib/python3.8/site-packages/tqdm/auto.py:22: TqdmWarning: IProgress not found. Please update jupyter and ipywidgets. See https://ipywidgets.readthedocs.io/en/stable/user_install.html\n",
      "  from .autonotebook import tqdm as notebook_tqdm\n"
     ]
    }
   ],
   "source": [
    "# data handling \n",
    "import torch \n",
    "from torch.utils.data import Dataset, DataLoader\n",
    "# neural network api\n",
    "import torch.autograd as autograd \n",
    "from torch import Tensor # parameter creation tensor  \n",
    "import torch.nn as nn \n",
    "import torch.nn.functional as F\n",
    "import torch.optim as optim"
   ]
  },
  {
   "cell_type": "markdown",
   "id": "2f92cbd4",
   "metadata": {},
   "source": [
    "### Self attention module\n",
    "\n",
    "<img src=\"./media/transformer-self-attention.png\" alt=\"self-attention\" width=\"300\"/>"
   ]
  },
  {
   "cell_type": "code",
   "execution_count": 3,
   "id": "9314d3f8",
   "metadata": {},
   "outputs": [],
   "source": [
    "class SelfAttention(nn.Module):\n",
    "    def __init__(self, model_dim, heads ):\n",
    "        super(SelfAttention, self).__init__()\n",
    "        self.model_dim = model_dim \n",
    "        self.heads = heads \n",
    "        \n",
    "        self.head_dim = model_dim // heads \n",
    "        \n",
    "        assert self.head_dim * heads  == model_dim, f\"The model dimensions: {dim_model}, needs to be integer divisible by heads: {heads} \"\n",
    "        \n",
    "        \n",
    "        self.values = nn.Linear(self.head_dim, self.head_dim, bias=False)\n",
    "        self.keys = nn.Linear(self.head_dim, self.head_dim, bias=False)\n",
    "        self.queries = nn.Linear(self.head_dim, self.head_dim, bias=False)\n",
    "        # fullying connected output of self attention module\n",
    "        self.fc_out = nn.Linear(heads * self.head_dim, model_dim )\n",
    "        \n",
    "        \n",
    "    def forward(self, values, keys, query, mask):\n",
    "        # number of examples \n",
    "        N = query.shape[0]\n",
    "        # these lengths correspond to the intermediate lengths of each input stream \n",
    "        # this doesn't vary for this implementation\n",
    "        value_len, key_len, query_len = values.shape[1], keys.shape[1], query.shape[1]\n",
    "        \n",
    "        # reshape in head pieces \n",
    "        values = values.reshape(N, value_len, self.heads, self.head_dim)\n",
    "        keys = values.reshape(N, keys_len, self.heads, self.head_dim)\n",
    "        queries = values.reshape(N, query_len, self.heads, self.head_dim)\n",
    "        \n",
    "        # queries shape (N, query_len, heads, head_dim)\n",
    "        # keys shape (N, key_len, heads, head_dim)\n",
    "        \n",
    "        # einstein summation notation for tensor multiplication\n",
    "        energy = torch.einsum(\"nqhd,nkhd->nhqk\", [queries, keys])\n",
    "        # energy shape ( N, heads, query_len, key_len)\n",
    "        \n",
    "        if mask is not None:\n",
    "            energy = energy.masked_fill(mask == 0, float(-1e20) )\n",
    "            \n",
    "        attention = torch.softmax( energy / (self.model_dim**(1/2)),dim = 3)\n",
    "        # dim=3  -> normalise across the third dim \n",
    "        \n",
    "        # attention shape (N, heads, query_len, key_len)\n",
    "        # values shape    (N, value_len, heads, heads_dim)        \n",
    "        out = torch.einsum(\"nhql,nlhd->nqhd\", [attention, values]).reshape(\n",
    "        N, query_len, self.heads*self.head_dim\n",
    "        )\n",
    "        # dummy variable l corresponds to key_len and value_len\n",
    "        out = self.fc_out(out)\n",
    "        return out\n",
    "a = SelfAttention(model_dim=12, heads=6)"
   ]
  },
  {
   "cell_type": "markdown",
   "id": "f044b977",
   "metadata": {},
   "source": [
    "### Transformer block \n",
    "<img src=\"./media/transformer-block.png\" alt=\"transformer-block\" width=\"300\"/>"
   ]
  },
  {
   "cell_type": "code",
   "execution_count": 4,
   "id": "3830dd3a",
   "metadata": {},
   "outputs": [
    {
     "data": {
      "text/plain": [
       "TransformerBlock(\n",
       "  (attention): SelfAttention(\n",
       "    (values): Linear(in_features=6, out_features=6, bias=False)\n",
       "    (keys): Linear(in_features=6, out_features=6, bias=False)\n",
       "    (queries): Linear(in_features=6, out_features=6, bias=False)\n",
       "    (fc_out): Linear(in_features=12, out_features=12, bias=True)\n",
       "  )\n",
       "  (norm1): LayerNorm((12,), eps=1e-05, elementwise_affine=True)\n",
       "  (norm2): LayerNorm((12,), eps=1e-05, elementwise_affine=True)\n",
       "  (dropout): Dropout(p=0.3, inplace=False)\n",
       "  (feed_forward): Sequential(\n",
       "    (0): Linear(in_features=12, out_features=48, bias=True)\n",
       "    (1): ReLU()\n",
       "    (2): Linear(in_features=48, out_features=12, bias=True)\n",
       "  )\n",
       ")"
      ]
     },
     "execution_count": 4,
     "metadata": {},
     "output_type": "execute_result"
    }
   ],
   "source": [
    "class TransformerBlock(nn.Module):\n",
    "    def __init__(self, model_dim, heads, dropout, feedforward_dim_mult):\n",
    "        super(TransformerBlock, self).__init__()\n",
    "        # init the self attention model\n",
    "        self.attention = SelfAttention(model_dim, heads)\n",
    "        \n",
    "        self.norm1 = nn.LayerNorm(model_dim)\n",
    "        self.norm2 = nn.LayerNorm(model_dim)\n",
    "        \n",
    "        self.dropout = nn.Dropout(dropout)\n",
    "        \n",
    "        self.feed_forward = nn.Sequential(\n",
    "            nn.Linear(model_dim, feedforward_dim_mult*model_dim),\n",
    "            nn.ReLU(),\n",
    "            nn.Linear(feedforward_dim_mult*model_dim, model_dim)\n",
    "        )\n",
    "        \n",
    "    def forward(self, value, key, query, mask):\n",
    "        attention = self.attention(values, key, query, mask)\n",
    "        # skip connection and dropout\n",
    "        x = self.dropout(self.norm1(attention + query))\n",
    "        # feedforward expansion and contraction\n",
    "        forward = self.feed_forward(x)\n",
    "        # skip connection and dropout\n",
    "        out = self.dropout(self.norm2(forward + x))\n",
    "        return out \n",
    "    \n",
    "t = TransformerBlock(model_dim = 12, heads=2, dropout=0.3, feedforward_dim_mult=4)\n",
    "t"
   ]
  },
  {
   "cell_type": "markdown",
   "id": "823d2f6a",
   "metadata": {},
   "source": [
    "### Encoder\n",
    "<img src=\"./media/encoder.png\" alt=\"encoder\" width=\"300\"/>"
   ]
  },
  {
   "cell_type": "code",
   "execution_count": 5,
   "id": "4800e216",
   "metadata": {},
   "outputs": [],
   "source": [
    "class Encoder(nn.Module):\n",
    "    \n",
    "    def __init__(self,\n",
    "                src_vocab_size, \n",
    "                model_dim, \n",
    "                heads,\n",
    "                device,\n",
    "                feedforward_dim_mult,\n",
    "                dropout, \n",
    "                max_len):\n",
    "        \n",
    "        super(Encoder, self).__init__()\n",
    "        self.model_dim = model_dim \n",
    "        self.device = device \n",
    "        self.src_vocab_size = src_vocab_size\n",
    "        # word embeddings\n",
    "        self.word_emedding =  nn.Embedding(src_vocab_size, model_dim)\n",
    "        # poisitonal embeddings \n",
    "        self.positional_embedding = nn.Embedding(max_len, model_dim)\n",
    "\n",
    "        self.layers = nn.ModuleList(\n",
    "        [\n",
    "            TransformerBlock(model_dim,\n",
    "                             heads,\n",
    "                             dropout=dropout,\n",
    "                             feedforward_dim_mult=feedforward_dim_mult)\n",
    "        ]\n",
    "        )\n",
    "        self.dropout = nn.Dropout(dropout)\n",
    "\n",
    "    def forward(self, x, mask):\n",
    "        N, seq_len  = x.shape\n",
    "        \n",
    "        positions = (torch.arange(0, seq_len)\n",
    "                     .expand(N, seq_len)\n",
    "                     .to(self.device))\n",
    "        # add the word embeddings and the position embeddings together \n",
    "        positional_word_embedding = self.word_embedding(x) + self.position_embedding(positions)\n",
    "        out = self.dropout(position_aware_word_embedding)\n",
    "        \n",
    "e = Encoder(100,12, 2, \"cpu\", 10, 0.3, 10)\n"
   ]
  },
  {
   "cell_type": "markdown",
   "id": "22dc57aa",
   "metadata": {},
   "source": [
    "### Decoder Block\n",
    "<img src=\"./media/decoder-block.png\" alt=\"decoder-block\" width=\"300\"/>"
   ]
  },
  {
   "cell_type": "code",
   "execution_count": 6,
   "id": "009f5df1",
   "metadata": {},
   "outputs": [
    {
     "data": {
      "text/plain": [
       "DecoderBlock(\n",
       "  (attention): SelfAttention(\n",
       "    (values): Linear(in_features=6, out_features=6, bias=False)\n",
       "    (keys): Linear(in_features=6, out_features=6, bias=False)\n",
       "    (queries): Linear(in_features=6, out_features=6, bias=False)\n",
       "    (fc_out): Linear(in_features=12, out_features=12, bias=True)\n",
       "  )\n",
       "  (norm): LayerNorm((12,), eps=1e-05, elementwise_affine=True)\n",
       "  (transformer_block): TransformerBlock(\n",
       "    (attention): SelfAttention(\n",
       "      (values): Linear(in_features=6, out_features=6, bias=False)\n",
       "      (keys): Linear(in_features=6, out_features=6, bias=False)\n",
       "      (queries): Linear(in_features=6, out_features=6, bias=False)\n",
       "      (fc_out): Linear(in_features=12, out_features=12, bias=True)\n",
       "    )\n",
       "    (norm1): LayerNorm((12,), eps=1e-05, elementwise_affine=True)\n",
       "    (norm2): LayerNorm((12,), eps=1e-05, elementwise_affine=True)\n",
       "    (dropout): Dropout(p=0.4, inplace=False)\n",
       "    (feed_forward): Sequential(\n",
       "      (0): Linear(in_features=12, out_features=120, bias=True)\n",
       "      (1): ReLU()\n",
       "      (2): Linear(in_features=120, out_features=12, bias=True)\n",
       "    )\n",
       "  )\n",
       "  (dropout): Dropout(p=0.4, inplace=False)\n",
       ")"
      ]
     },
     "execution_count": 6,
     "metadata": {},
     "output_type": "execute_result"
    }
   ],
   "source": [
    "class DecoderBlock(nn.Module):\n",
    "    \n",
    "    def __init__(self, model_dim, heads, feedforward_dim_mult, dropout, device):\n",
    "        super(DecoderBlock, self).__init__()\n",
    "        # defining the self attention mechanism \n",
    "        self.attention = SelfAttention(model_dim,heads)\n",
    "        self.norm = nn.LayerNorm(model_dim)\n",
    "        self.transformer_block = TransformerBlock(\n",
    "        model_dim, heads, dropout, feedforward_dim_mult\n",
    "        )\n",
    "        \n",
    "        self.dropout = nn.Dropout(dropout)\n",
    "        \n",
    "    def forward(self, x, value, key, src_mask, trg_mask):\n",
    "        \n",
    "        attention = self.attention(x, x, x, trg_mask)\n",
    "        query = self.dropout(self.norm(attention + x ))\n",
    "        out = self.transformer_block(value, key, query, src_mask)\n",
    "        return out \n",
    "    \n",
    "d = DecoderBlock(12, 2, 10, 0.4, \"cpu\")\n",
    "d"
   ]
  },
  {
   "cell_type": "markdown",
   "id": "7f0a8b78",
   "metadata": {},
   "source": [
    "### Decoder\n",
    "<img src=\"./media/decoder.png\" alt=\"decoder piece\" width=\"300\"/>"
   ]
  },
  {
   "cell_type": "code",
   "execution_count": 8,
   "id": "4d874218",
   "metadata": {},
   "outputs": [],
   "source": [
    "class Decoder(nn.Module):\n",
    "    def __init__(self, \n",
    "                trg_vocab_size, \n",
    "                model_dim, \n",
    "                num_layers,\n",
    "                heads,\n",
    "                feedforward_dim_mult, \n",
    "                dropout,\n",
    "                device, \n",
    "                max_len):\n",
    "        super(Decoder, self).__init__()\n",
    "        \n",
    "        self.device = device \n",
    "        self.word_embedding = nn.Embedding(trg_vocab_size, model_dim)\n",
    "        self.position_embedding = nn.Embedding(max_len, model_dim)\n",
    "        \n",
    "        self.layers = nn.ModuleList(\n",
    "            [\n",
    "                DecoderBlock(model_dim, heads, feedforward_dim_mult, dropout, device)\n",
    "                for _ in range(num_layers)\n",
    "            ]\n",
    "        )\n",
    "        self.fc_out = nn.Linear(model_dim, trg_vocab_size)\n",
    "        self.dropout = nn.Dropout(dropout)\n",
    "        \n",
    "    def forward(self, x, value, key, src_mask, trg_mask):\n",
    "        N, seq_len = x.shape \n",
    "        \n",
    "        positions = (torch.arange(0, seq_len)\n",
    "                     .expand(N,seq_len)\n",
    "                     .to(Deivce))\n",
    "        for layer in self.layers:\n",
    "            x = layer(x, enc_out, enc_out, src_mask, trg_mask)\n",
    "        \n",
    "        out = self.fc_out(x)\n",
    "        return x     "
   ]
  },
  {
   "cell_type": "markdown",
   "id": "d6b97ec7",
   "metadata": {},
   "source": [
    "### Transformer"
   ]
  },
  {
   "cell_type": "markdown",
   "id": "d8386e58",
   "metadata": {},
   "source": [
    "<img src=./media/transformer.png alt=\"self-attention\" width=\"300\"/>"
   ]
  },
  {
   "cell_type": "code",
   "execution_count": 12,
   "id": "3acff88c",
   "metadata": {},
   "outputs": [
    {
     "data": {
      "text/plain": [
       "Transformer(\n",
       "  (encoder): Encoder(\n",
       "    (word_emedding): Embedding(10, 256)\n",
       "    (positional_embedding): Embedding(96, 256)\n",
       "    (layers): ModuleList(\n",
       "      (0): TransformerBlock(\n",
       "        (attention): SelfAttention(\n",
       "          (values): Linear(in_features=32, out_features=32, bias=False)\n",
       "          (keys): Linear(in_features=32, out_features=32, bias=False)\n",
       "          (queries): Linear(in_features=32, out_features=32, bias=False)\n",
       "          (fc_out): Linear(in_features=256, out_features=256, bias=True)\n",
       "        )\n",
       "        (norm1): LayerNorm((256,), eps=1e-05, elementwise_affine=True)\n",
       "        (norm2): LayerNorm((256,), eps=1e-05, elementwise_affine=True)\n",
       "        (dropout): Dropout(p=0, inplace=False)\n",
       "        (feed_forward): Sequential(\n",
       "          (0): Linear(in_features=256, out_features=1024, bias=True)\n",
       "          (1): ReLU()\n",
       "          (2): Linear(in_features=1024, out_features=256, bias=True)\n",
       "        )\n",
       "      )\n",
       "    )\n",
       "    (dropout): Dropout(p=0, inplace=False)\n",
       "  )\n",
       ")"
      ]
     },
     "execution_count": 12,
     "metadata": {},
     "output_type": "execute_result"
    }
   ],
   "source": [
    "class Transformer(nn.Module):\n",
    "    \n",
    "    def __init__(self,\n",
    "                 src_vocab_size, \n",
    "                trg_vocab_size,\n",
    "                 src_pad_idx,\n",
    "                 trg_pad_idx, \n",
    "                 model_dim=256,\n",
    "                 num_layers=2,\n",
    "                 feedforward_dim_mult=4,\n",
    "                 dropout=0,\n",
    "                 heads=8,\n",
    "                 device=\"cuda\",\n",
    "                 max_len=96\n",
    "                ):\n",
    "        super(Transformer, self).__init__()\n",
    "\n",
    "        self.encoder = Encoder( src_vocab_size, \n",
    "                                model_dim, \n",
    "                                heads,\n",
    "                                device,\n",
    "                                feedforward_dim_mult,\n",
    "                                dropout, \n",
    "                                max_len)\n",
    "        \n",
    "        self.src_pad_idx=  src_pad_idx\n",
    "        self.trg_pad_idx = trg_pad_idx \n",
    "        self.device= device \n",
    "        \n",
    "        \n",
    "    def make_src_mask(self,src):\n",
    "        src_mask = (src != self.src_pad_idx).unsqueeze(1).unsqueeze(2)\n",
    "        # src_mask (N, 1, 1, src_len)\n",
    "        return src_mask.to(self.device)\n",
    "    \n",
    "    \n",
    "    \n",
    "    def make_trg_mask(self,trg):\n",
    "        N, trg_len = trg.shape\n",
    "        # triangular mask\n",
    "        trg_mask = torch.tril(\n",
    "            torch.ones((trg_len, trg_len)).expand(N, 1, trg_len, trg_len)\n",
    "        )\n",
    "        return trg_mask.to(self.device)\n",
    "    \n",
    "    \n",
    "    def forward(self, src, trg):\n",
    "        src_mask = self.make_src_mask(src)\n",
    "        trg_mask = self.make_trg_mask(trg)\n",
    "        enc_src = self.encoder(src, src_mask)\n",
    "        \n",
    "        out = self.decoder(trg, enc_src, src_mask, trg_mask)\n",
    "        return out \n",
    "    \n",
    "t = Transformer(10, 10, 0, 0,)\n",
    "t"
   ]
  },
  {
   "cell_type": "markdown",
   "id": "8edb6ef0",
   "metadata": {},
   "source": [
    "### Testing"
   ]
  },
  {
   "cell_type": "code",
   "execution_count": null,
   "id": "6111d7b7",
   "metadata": {},
   "outputs": [],
   "source": [
    "device = torch.device(\"cuda\" if torch.cuda.is_available else \"cpu\")\n",
    "\n",
    "x = (torch.multinomial(torch.tensor([1,2,3,4,5,6,7],dtype=torch.float), 16, replacement=True)\n",
    "     .reshape(2,-1)\n",
    "    .to(device))\n",
    "trg= (torch.multinomial(torch.tensor([1,2,3,4,5,8,9],dtype=torch.float), 16, replacement=True)\n",
    "     .reshape(2,-1)\n",
    "    .to(device))\n",
    "\n",
    "src_pad_idx, trg_pad_idx = 0 \n",
    "src_vocab_size, trg_vocab_size = 10"
   ]
  },
  {
   "cell_type": "code",
   "execution_count": 23,
   "id": "fc6e92ff",
   "metadata": {},
   "outputs": [
    {
     "data": {
      "text/plain": [
       "tensor([[4, 4, 4, 3, 4, 4, 2, 5],\n",
       "        [3, 5, 6, 4, 6, 5, 5, 2]])"
      ]
     },
     "execution_count": 23,
     "metadata": {},
     "output_type": "execute_result"
    }
   ],
   "source": []
  }
 ],
 "metadata": {
  "kernelspec": {
   "display_name": "transformer-ZSDFiGtT",
   "language": "python",
   "name": "transformer-zsdfigtt"
  },
  "language_info": {
   "codemirror_mode": {
    "name": "ipython",
    "version": 3
   },
   "file_extension": ".py",
   "mimetype": "text/x-python",
   "name": "python",
   "nbconvert_exporter": "python",
   "pygments_lexer": "ipython3",
   "version": "3.8.2"
  }
 },
 "nbformat": 4,
 "nbformat_minor": 5
}

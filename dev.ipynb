{
 "cells": [
  {
   "cell_type": "code",
   "execution_count": 6,
   "id": "241bafaa",
   "metadata": {},
   "outputs": [],
   "source": [
    "# data handling \n",
    "import torch \n",
    "from torch.utils.data import Dataset, DataLoader\n",
    "# neural network api\n",
    "import torch.autograd as autograd \n",
    "from torch import Tensor \n",
    "import torch.nn as nn \n",
    "import torch.nn.functional as F\n",
    "import torch.optim as optim"
   ]
  },
  {
   "cell_type": "markdown",
   "id": "0bc62d5b",
   "metadata": {},
   "source": [
    "![Transformer architecture](./media/transformer.png)"
   ]
  },
  {
   "cell_type": "markdown",
   "id": "b1bacd60",
   "metadata": {},
   "source": [
    "### Self attention module\n",
    "\n",
    "<img src=\"./media/transformer-self-attention.png\" alt=\"self-attention\" width=\"300\"/>"
   ]
  },
  {
   "cell_type": "code",
   "execution_count": 16,
   "id": "a35fc5f4",
   "metadata": {},
   "outputs": [
    {
     "data": {
      "text/plain": [
       "SelfAttention(\n",
       "  (values): Linear(in_features=2, out_features=2, bias=False)\n",
       "  (keys): Linear(in_features=2, out_features=2, bias=False)\n",
       "  (queries): Linear(in_features=2, out_features=2, bias=False)\n",
       "  (fc_out): Linear(in_features=12, out_features=12, bias=True)\n",
       ")"
      ]
     },
     "execution_count": 16,
     "metadata": {},
     "output_type": "execute_result"
    }
   ],
   "source": [
    "class SelfAttention(nn.Module):\n",
    "    def __init__(self, model_dim, heads ):\n",
    "        super(SelfAttention, self).__init__()\n",
    "        self.model_dim = model_dim \n",
    "        self.heads = heads \n",
    "        \n",
    "        self.head_dim = model_dim // heads \n",
    "        \n",
    "        assert self.head_dim * heads  == model_dim, f\"The model dimensions: {dim_model}, needs to be integer divisible by heads: {heads} \"\n",
    "        \n",
    "        \n",
    "        self.values = nn.Linear(self.head_dim, self.head_dim, bias=False)\n",
    "        self.keys = nn.Linear(self.head_dim, self.head_dim, bias=False)\n",
    "        self.queries = nn.Linear(self.head_dim, self.head_dim, bias=False)\n",
    "        # fullying connected output of self attention module\n",
    "        self.fc_out = nn.Linear(heads * self.head_dim, model_dim )\n",
    "        \n",
    "        \n",
    "    def forward(self, values, keys, query, mask):\n",
    "        # number of examples \n",
    "        N = query.shape[0]\n",
    "        # these lengths correspond to the intermediate lengths of each input stream \n",
    "        # this doesn't vary for this implementation\n",
    "        value_len, key_len, query_len = values.shape[1], keys.shape[1], query.shape[1]\n",
    "        \n",
    "        # reshape in head pieces \n",
    "        values = values.reshape(N, value_len, self.heads, self.head_dim)\n",
    "        keys = values.reshape(N, keys_len, self.heads, self.head_dim)\n",
    "        queries = values.reshape(N, query_len, self.heads, self.head_dim)\n",
    "        \n",
    "        # queries shape (N, query_len, heads, head_dim)\n",
    "        # keys shape (N, key_len, heads, head_dim)\n",
    "        \n",
    "        # einstein summation notation for tensor multiplication\n",
    "        energy = torch.einsum(\"nqhd,nkhd->nhqk\", [queries, keys])\n",
    "        # energy shape ( N, heads, query_len, key_len)\n",
    "        \n",
    "        if mask is not None:\n",
    "            energy = energy.masked_fill(mask == 0, float(-1e20) )\n",
    "            \n",
    "        attention = torch.softmax( energy / (self.model_dim**(1/2)),dim = 3)\n",
    "        # dim=3  -> normalise across the third dim \n",
    "        \n",
    "        # attention shape (N, heads, query_len, key_len)\n",
    "        # values shape    (N, value_len, heads, heads_dim)        \n",
    "        out = torch.einsum(\"nhql,nlhd->nqhd\", [attention, values]).reshape(\n",
    "        N, query_len, self.heads*self.head_dim\n",
    "        )\n",
    "        # dummy variable l corresponds to key_len and value_len\n",
    "        out = self.fc_out(out)\n",
    "        return out\n",
    "a = SelfAttention(model_dim=12, heads=6)"
   ]
  },
  {
   "cell_type": "markdown",
   "id": "f258e608",
   "metadata": {},
   "source": [
    "### Transformer block \n",
    "<img src=\"./media/transformer-block.png\" alt=\"transformer-block\" width=\"300\"/>"
   ]
  },
  {
   "cell_type": "code",
   "execution_count": 12,
   "id": "d70336bf",
   "metadata": {},
   "outputs": [],
   "source": [
    "class TransformerBlock(nn.Module):\n",
    "    def __init__(self, model_dim, heads, dropout, feedforward_dim):\n",
    "        super(TransformerBlock, self).__init__()\n",
    "        # init the self attention model\n",
    "        self.attention = SelfAttention(model_dim, heads)\n",
    "        \n",
    "        self.norm1 = nn.LayerNorm(model_dim)\n",
    "        self.norm2 = nn.LayerNorm(model_dim)\n",
    "        \n",
    "        self.dropout = nn.Dropout(dropout)\n",
    "        \n",
    "        self.feed_forward = nn.Sequential(\n",
    "            nn.Linear(model_dim, feedforward_dim*model_dim),\n",
    "            nn.Relu(),\n",
    "            nn.Linear(feedforward_dim*model_dim, model_dim)\n",
    "        )\n",
    "        \n",
    "    def forward(self, value, key, query mask):\n",
    "        attention = self.attention(values, key, query, mask)\n",
    "        # skip connection and dropout\n",
    "        x = self.dropout(self.norm1(attention + query))\n",
    "        # feedforward expansion and contraction\n",
    "        forward = self.feed_forward(x)\n",
    "        # skip connection and dropout\n",
    "        out = self.dropout(self.norm2(forward + x))\n",
    "        return out \n",
    "    "
   ]
  },
  {
   "cell_type": "markdown",
   "id": "a34ac572",
   "metadata": {},
   "source": [
    "### Encoder"
   ]
  },
  {
   "cell_type": "code",
   "execution_count": null,
   "id": "c072e53b",
   "metadata": {},
   "outputs": [],
   "source": []
  },
  {
   "cell_type": "code",
   "execution_count": null,
   "id": "61cd9a1a",
   "metadata": {},
   "outputs": [],
   "source": []
  }
 ],
 "metadata": {
  "kernelspec": {
   "display_name": "transformer-ZSDFiGtT",
   "language": "python",
   "name": "transformer-zsdfigtt"
  },
  "language_info": {
   "codemirror_mode": {
    "name": "ipython",
    "version": 3
   },
   "file_extension": ".py",
   "mimetype": "text/x-python",
   "name": "python",
   "nbconvert_exporter": "python",
   "pygments_lexer": "ipython3",
   "version": "3.8.2"
  }
 },
 "nbformat": 4,
 "nbformat_minor": 5
}

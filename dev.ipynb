{
 "cells": [
  {
   "cell_type": "code",
   "execution_count": 1,
   "id": "55cb2ec8",
   "metadata": {},
   "outputs": [
    {
     "name": "stderr",
     "output_type": "stream",
     "text": [
      "/home/akinwilson/.local/share/virtualenvs/transformer-ZSDFiGtT/lib/python3.8/site-packages/tqdm/auto.py:22: TqdmWarning: IProgress not found. Please update jupyter and ipywidgets. See https://ipywidgets.readthedocs.io/en/stable/user_install.html\n",
      "  from .autonotebook import tqdm as notebook_tqdm\n"
     ]
    }
   ],
   "source": [
    "# data handling \n",
    "import torch \n",
    "from torch.utils.data import Dataset, DataLoader\n",
    "# neural network api\n",
    "import torch.autograd as autograd \n",
    "from torch import Tensor # parameter creation tensor  \n",
    "import torch.nn as nn \n",
    "import torch.nn.functional as F\n",
    "import torch.optim as optim"
   ]
  },
  {
   "cell_type": "markdown",
   "id": "3b9ec0ed",
   "metadata": {},
   "source": [
    "### Self attention module\n",
    "\n",
    "<img src=\"./media/transformer-self-attention.png\" alt=\"self-attention\" width=\"300\"/>"
   ]
  },
  {
   "cell_type": "code",
   "execution_count": 4,
   "id": "d3d393ca",
   "metadata": {},
   "outputs": [
    {
     "data": {
      "text/plain": [
       "SelfAttention(\n",
       "  (values): Linear(in_features=2, out_features=2, bias=False)\n",
       "  (keys): Linear(in_features=2, out_features=2, bias=False)\n",
       "  (queries): Linear(in_features=2, out_features=2, bias=False)\n",
       "  (fc_out): Linear(in_features=12, out_features=12, bias=True)\n",
       ")"
      ]
     },
     "execution_count": 4,
     "metadata": {},
     "output_type": "execute_result"
    }
   ],
   "source": [
    "class SelfAttention(nn.Module):\n",
    "    def __init__(self, model_dim, heads ):\n",
    "        super(SelfAttention, self).__init__()\n",
    "        self.model_dim = model_dim \n",
    "        self.heads = heads \n",
    "        \n",
    "        self.head_dim = model_dim // heads \n",
    "        \n",
    "        assert self.head_dim * heads  == model_dim, f\"The model dimensions: {dim_model}, needs to be integer divisible by heads: {heads} \"\n",
    "        \n",
    "        \n",
    "        self.values = nn.Linear(self.head_dim, self.head_dim, bias=False)\n",
    "        self.keys = nn.Linear(self.head_dim, self.head_dim, bias=False)\n",
    "        self.queries = nn.Linear(self.head_dim, self.head_dim, bias=False)\n",
    "        # fullying connected output of self attention module\n",
    "        self.fc_out = nn.Linear(heads * self.head_dim, model_dim )\n",
    "        \n",
    "        \n",
    "    def forward(self, values, keys, query, mask):\n",
    "        # number of examples \n",
    "        N = query.shape[0]\n",
    "        # these lengths correspond to the intermediate lengths of each input stream \n",
    "        # this doesn't vary for this implementation\n",
    "        value_len, key_len, query_len = values.shape[1], keys.shape[1], query.shape[1]\n",
    "        \n",
    "        # reshape in head pieces \n",
    "        values = values.reshape(N, value_len, self.heads, self.head_dim)\n",
    "        keys = values.reshape(N, keys_len, self.heads, self.head_dim)\n",
    "        queries = values.reshape(N, query_len, self.heads, self.head_dim)\n",
    "        \n",
    "        # queries shape (N, query_len, heads, head_dim)\n",
    "        # keys shape (N, key_len, heads, head_dim)\n",
    "        \n",
    "        # einstein summation notation for tensor multiplication\n",
    "        energy = torch.einsum(\"nqhd,nkhd->nhqk\", [queries, keys])\n",
    "        # energy shape ( N, heads, query_len, key_len)\n",
    "        \n",
    "        if mask is not None:\n",
    "            energy = energy.masked_fill(mask == 0, float(-1e20) )\n",
    "            \n",
    "        attention = torch.softmax( energy / (self.model_dim**(1/2)),dim = 3)\n",
    "        # dim=3  -> normalise across the third dim \n",
    "        \n",
    "        # attention shape (N, heads, query_len, key_len)\n",
    "        # values shape    (N, value_len, heads, heads_dim)        \n",
    "        out = torch.einsum(\"nhql,nlhd->nqhd\", [attention, values]).reshape(\n",
    "        N, query_len, self.heads*self.head_dim\n",
    "        )\n",
    "        # dummy variable l corresponds to key_len and value_len\n",
    "        out = self.fc_out(out)\n",
    "        return out\n",
    "    \n",
    "    \n",
    "a = SelfAttention(model_dim=12, heads=6)\n",
    "a"
   ]
  },
  {
   "cell_type": "markdown",
   "id": "f5502df1",
   "metadata": {},
   "source": [
    "### Transformer block \n",
    "<img src=\"./media/transformer-block.png\" alt=\"transformer-block\" width=\"300\"/>"
   ]
  },
  {
   "cell_type": "code",
   "execution_count": 5,
   "id": "6c4df960",
   "metadata": {},
   "outputs": [
    {
     "data": {
      "text/plain": [
       "TransformerBlock(\n",
       "  (attention): SelfAttention(\n",
       "    (values): Linear(in_features=6, out_features=6, bias=False)\n",
       "    (keys): Linear(in_features=6, out_features=6, bias=False)\n",
       "    (queries): Linear(in_features=6, out_features=6, bias=False)\n",
       "    (fc_out): Linear(in_features=12, out_features=12, bias=True)\n",
       "  )\n",
       "  (norm1): LayerNorm((12,), eps=1e-05, elementwise_affine=True)\n",
       "  (norm2): LayerNorm((12,), eps=1e-05, elementwise_affine=True)\n",
       "  (dropout): Dropout(p=0.3, inplace=False)\n",
       "  (feed_forward): Sequential(\n",
       "    (0): Linear(in_features=12, out_features=48, bias=True)\n",
       "    (1): ReLU()\n",
       "    (2): Linear(in_features=48, out_features=12, bias=True)\n",
       "  )\n",
       ")"
      ]
     },
     "execution_count": 5,
     "metadata": {},
     "output_type": "execute_result"
    }
   ],
   "source": [
    "class TransformerBlock(nn.Module):\n",
    "    def __init__(self, model_dim, heads, dropout, feedforward_dim_mult):\n",
    "        super(TransformerBlock, self).__init__()\n",
    "        # init the self attention model\n",
    "        self.attention = SelfAttention(model_dim, heads)\n",
    "        \n",
    "        self.norm1 = nn.LayerNorm(model_dim)\n",
    "        self.norm2 = nn.LayerNorm(model_dim)\n",
    "        \n",
    "        self.dropout = nn.Dropout(dropout)\n",
    "        \n",
    "        self.feed_forward = nn.Sequential(\n",
    "            nn.Linear(model_dim, feedforward_dim_mult*model_dim),\n",
    "            nn.ReLU(),\n",
    "            nn.Linear(feedforward_dim_mult*model_dim, model_dim)\n",
    "        )\n",
    "        \n",
    "    def forward(self, value, key, query, mask):\n",
    "        attention = self.attention(values, key, query, mask)\n",
    "        # skip connection and dropout\n",
    "        x = self.dropout(self.norm1(attention + query))\n",
    "        # feedforward expansion and contraction\n",
    "        forward = self.feed_forward(x)\n",
    "        # skip connection and dropout\n",
    "        out = self.dropout(self.norm2(forward + x))\n",
    "        return out \n",
    "    \n",
    "t = TransformerBlock(model_dim = 12, heads=2, dropout=0.3, feedforward_dim_mult=4)\n",
    "t"
   ]
  },
  {
   "cell_type": "markdown",
   "id": "735022e2",
   "metadata": {},
   "source": [
    "### Encoder\n",
    "<img src=\"./media/encoder.png\" alt=\"encoder\" width=\"300\"/>"
   ]
  },
  {
   "cell_type": "code",
   "execution_count": 6,
   "id": "3398d030",
   "metadata": {},
   "outputs": [
    {
     "data": {
      "text/plain": [
       "Encoder(\n",
       "  (word_emedding): Embedding(100, 12)\n",
       "  (positional_embedding): Embedding(10, 12)\n",
       "  (layers): ModuleList(\n",
       "    (0): TransformerBlock(\n",
       "      (attention): SelfAttention(\n",
       "        (values): Linear(in_features=6, out_features=6, bias=False)\n",
       "        (keys): Linear(in_features=6, out_features=6, bias=False)\n",
       "        (queries): Linear(in_features=6, out_features=6, bias=False)\n",
       "        (fc_out): Linear(in_features=12, out_features=12, bias=True)\n",
       "      )\n",
       "      (norm1): LayerNorm((12,), eps=1e-05, elementwise_affine=True)\n",
       "      (norm2): LayerNorm((12,), eps=1e-05, elementwise_affine=True)\n",
       "      (dropout): Dropout(p=0.3, inplace=False)\n",
       "      (feed_forward): Sequential(\n",
       "        (0): Linear(in_features=12, out_features=120, bias=True)\n",
       "        (1): ReLU()\n",
       "        (2): Linear(in_features=120, out_features=12, bias=True)\n",
       "      )\n",
       "    )\n",
       "  )\n",
       "  (dropout): Dropout(p=0.3, inplace=False)\n",
       ")"
      ]
     },
     "execution_count": 6,
     "metadata": {},
     "output_type": "execute_result"
    }
   ],
   "source": [
    "class Encoder(nn.Module):\n",
    "    \n",
    "    def __init__(self,\n",
    "                src_vocab_size, \n",
    "                model_dim, \n",
    "                heads,\n",
    "                device,\n",
    "                feedforward_dim_mult,\n",
    "                dropout, \n",
    "                max_len):\n",
    "        \n",
    "        super(Encoder, self).__init__()\n",
    "        self.model_dim = model_dim \n",
    "        self.device = device \n",
    "        self.src_vocab_size = src_vocab_size\n",
    "        # word embeddings\n",
    "        self.word_emedding =  nn.Embedding(src_vocab_size, model_dim)\n",
    "        # poisitonal embeddings \n",
    "        self.positional_embedding = nn.Embedding(max_len, model_dim)\n",
    "\n",
    "        self.layers = nn.ModuleList(\n",
    "        [\n",
    "            TransformerBlock(model_dim,\n",
    "                             heads,\n",
    "                             dropout=dropout,\n",
    "                             feedforward_dim_mult=feedforward_dim_mult)\n",
    "        ]\n",
    "        )\n",
    "        self.dropout = nn.Dropout(dropout)\n",
    "\n",
    "    def forward(self, x, mask):\n",
    "        N, seq_len  = x.shape\n",
    "        \n",
    "        positions = (torch.arange(0, seq_len)\n",
    "                     .expand(N, seq_len)\n",
    "                     .to(self.device))\n",
    "        # add the word embeddings and the position embeddings together \n",
    "        positional_word_embedding = self.word_embedding(x) + self.position_embedding(positions)\n",
    "        out = self.dropout(position_aware_word_embedding)\n",
    "        \n",
    "e = Encoder(100,12, 2, \"cpu\", 10, 0.3, 10)\n",
    "e"
   ]
  },
  {
   "cell_type": "markdown",
   "id": "16c15398",
   "metadata": {},
   "source": [
    "### Decoder Block\n",
    "<img src=\"./media/decoder-block.png\" alt=\"decoder-block\" width=\"300\"/>"
   ]
  },
  {
   "cell_type": "code",
   "execution_count": 7,
   "id": "12579afc",
   "metadata": {},
   "outputs": [
    {
     "data": {
      "text/plain": [
       "DecoderBlock(\n",
       "  (attention): SelfAttention(\n",
       "    (values): Linear(in_features=6, out_features=6, bias=False)\n",
       "    (keys): Linear(in_features=6, out_features=6, bias=False)\n",
       "    (queries): Linear(in_features=6, out_features=6, bias=False)\n",
       "    (fc_out): Linear(in_features=12, out_features=12, bias=True)\n",
       "  )\n",
       "  (norm): LayerNorm((12,), eps=1e-05, elementwise_affine=True)\n",
       "  (transformer_block): TransformerBlock(\n",
       "    (attention): SelfAttention(\n",
       "      (values): Linear(in_features=6, out_features=6, bias=False)\n",
       "      (keys): Linear(in_features=6, out_features=6, bias=False)\n",
       "      (queries): Linear(in_features=6, out_features=6, bias=False)\n",
       "      (fc_out): Linear(in_features=12, out_features=12, bias=True)\n",
       "    )\n",
       "    (norm1): LayerNorm((12,), eps=1e-05, elementwise_affine=True)\n",
       "    (norm2): LayerNorm((12,), eps=1e-05, elementwise_affine=True)\n",
       "    (dropout): Dropout(p=0.4, inplace=False)\n",
       "    (feed_forward): Sequential(\n",
       "      (0): Linear(in_features=12, out_features=120, bias=True)\n",
       "      (1): ReLU()\n",
       "      (2): Linear(in_features=120, out_features=12, bias=True)\n",
       "    )\n",
       "  )\n",
       "  (dropout): Dropout(p=0.4, inplace=False)\n",
       ")"
      ]
     },
     "execution_count": 7,
     "metadata": {},
     "output_type": "execute_result"
    }
   ],
   "source": [
    "class DecoderBlock(nn.Module):\n",
    "    \n",
    "    def __init__(self, model_dim, heads, feedforward_dim_mult, dropout, device):\n",
    "        super(DecoderBlock, self).__init__()\n",
    "        # defining the self attention mechanism \n",
    "        self.attention = SelfAttention(model_dim,heads)\n",
    "        self.norm = nn.LayerNorm(model_dim)\n",
    "        self.transformer_block = TransformerBlock(\n",
    "        model_dim, heads, dropout, feedforward_dim_mult\n",
    "        )\n",
    "        \n",
    "        self.dropout = nn.Dropout(dropout)\n",
    "        \n",
    "    def forward(self, x, value, key, src_mask, trg_mask):\n",
    "        \n",
    "        attention = self.attention(x, x, x, trg_mask)\n",
    "        query = self.dropout(self.norm(attention + x ))\n",
    "        out = self.transformer_block(value, key, query, src_mask)\n",
    "        return out \n",
    "    \n",
    "d = DecoderBlock(12, 2, 10, 0.4, \"cpu\")\n",
    "d"
   ]
  },
  {
   "cell_type": "markdown",
   "id": "de76cd87",
   "metadata": {},
   "source": [
    "### Decoder\n",
    "<img src=\"./media/decoder.png\" alt=\"decoder piece\" width=\"300\"/>"
   ]
  },
  {
   "cell_type": "code",
   "execution_count": 8,
   "id": "6dade700",
   "metadata": {},
   "outputs": [],
   "source": [
    "class Decoder(nn.Module):\n",
    "    def __init__(self, \n",
    "                trg_vocab_size, \n",
    "                model_dim, \n",
    "                num_layers,\n",
    "                heads,\n",
    "                feedforward_dim_mult, \n",
    "                dropout,\n",
    "                device, \n",
    "                max_len):\n",
    "        super(Decoder, self).__init__()\n",
    "        \n",
    "        self.device = device \n",
    "        self.word_embedding = nn.Embedding(trg_vocab_size, model_dim)\n",
    "        self.position_embedding = nn.Embedding(max_len, model_dim)\n",
    "        \n",
    "        self.layers = nn.ModuleList(\n",
    "            [\n",
    "                DecoderBlock(model_dim, heads, feedforward_dim_mult, dropout, device)\n",
    "                for _ in range(num_layers)\n",
    "            ]\n",
    "        )\n",
    "        self.fc_out = nn.Linear(model_dim, trg_vocab_size)\n",
    "        self.dropout = nn.Dropout(dropout)\n",
    "        \n",
    "    def forward(self, x, value, key, src_mask, trg_mask):\n",
    "        N, seq_len = x.shape \n",
    "        \n",
    "        positions = (torch.arange(0, seq_len)\n",
    "                     .expand(N,seq_len)\n",
    "                     .to(Deivce))\n",
    "        for layer in self.layers:\n",
    "            x = layer(x, enc_out, enc_out, src_mask, trg_mask)\n",
    "        \n",
    "        out = self.fc_out(x)\n",
    "        return x     "
   ]
  },
  {
   "cell_type": "markdown",
   "id": "37f4b20d",
   "metadata": {},
   "source": [
    "### Transformer"
   ]
  },
  {
   "cell_type": "markdown",
   "id": "7337ea91",
   "metadata": {},
   "source": [
    "<img src=./media/transformer.png alt=\"self-attention\" width=\"300\"/>"
   ]
  },
  {
   "cell_type": "code",
   "execution_count": 9,
   "id": "d96cc890",
   "metadata": {},
   "outputs": [
    {
     "data": {
      "text/plain": [
       "Transformer(\n",
       "  (encoder): Encoder(\n",
       "    (word_emedding): Embedding(10, 256)\n",
       "    (positional_embedding): Embedding(96, 256)\n",
       "    (layers): ModuleList(\n",
       "      (0): TransformerBlock(\n",
       "        (attention): SelfAttention(\n",
       "          (values): Linear(in_features=32, out_features=32, bias=False)\n",
       "          (keys): Linear(in_features=32, out_features=32, bias=False)\n",
       "          (queries): Linear(in_features=32, out_features=32, bias=False)\n",
       "          (fc_out): Linear(in_features=256, out_features=256, bias=True)\n",
       "        )\n",
       "        (norm1): LayerNorm((256,), eps=1e-05, elementwise_affine=True)\n",
       "        (norm2): LayerNorm((256,), eps=1e-05, elementwise_affine=True)\n",
       "        (dropout): Dropout(p=0, inplace=False)\n",
       "        (feed_forward): Sequential(\n",
       "          (0): Linear(in_features=256, out_features=1024, bias=True)\n",
       "          (1): ReLU()\n",
       "          (2): Linear(in_features=1024, out_features=256, bias=True)\n",
       "        )\n",
       "      )\n",
       "    )\n",
       "    (dropout): Dropout(p=0, inplace=False)\n",
       "  )\n",
       ")"
      ]
     },
     "execution_count": 9,
     "metadata": {},
     "output_type": "execute_result"
    }
   ],
   "source": [
    "class Transformer(nn.Module):\n",
    "    \n",
    "    def __init__(self,\n",
    "                 src_vocab_size, \n",
    "                trg_vocab_size,\n",
    "                 src_pad_idx,\n",
    "                 trg_pad_idx, \n",
    "                 model_dim=256,\n",
    "                 num_layers=2,\n",
    "                 feedforward_dim_mult=4,\n",
    "                 dropout=0,\n",
    "                 heads=8,\n",
    "                 device=\"cuda\",\n",
    "                 max_len=96\n",
    "                ):\n",
    "        super(Transformer, self).__init__()\n",
    "\n",
    "        self.encoder = Encoder( src_vocab_size, \n",
    "                                model_dim, \n",
    "                                heads,\n",
    "                                device,\n",
    "                                feedforward_dim_mult,\n",
    "                                dropout, \n",
    "                                max_len)\n",
    "        \n",
    "        self.src_pad_idx=  src_pad_idx\n",
    "        self.trg_pad_idx = trg_pad_idx \n",
    "        self.device= device \n",
    "        \n",
    "        \n",
    "    def make_src_mask(self,src):\n",
    "        src_mask = (src != self.src_pad_idx).unsqueeze(1).unsqueeze(2)\n",
    "        # src_mask (N, 1, 1, src_len)\n",
    "        return src_mask.to(self.device)\n",
    "    \n",
    "    \n",
    "    \n",
    "    def make_trg_mask(self,trg):\n",
    "        N, trg_len = trg.shape\n",
    "        # triangular mask\n",
    "        trg_mask = torch.tril(\n",
    "            torch.ones((trg_len, trg_len)).expand(N, 1, trg_len, trg_len)\n",
    "        )\n",
    "        return trg_mask.to(self.device)\n",
    "    \n",
    "    \n",
    "    def forward(self, src, trg):\n",
    "        src_mask = self.make_src_mask(src)\n",
    "        trg_mask = self.make_trg_mask(trg)\n",
    "        enc_src = self.encoder(src, src_mask)\n",
    "        \n",
    "        out = self.decoder(trg, enc_src, src_mask, trg_mask)\n",
    "        return out \n",
    "    \n",
    "t = Transformer(10, 10, 0, 0,)\n",
    "t"
   ]
  },
  {
   "cell_type": "markdown",
   "id": "6be40bdc",
   "metadata": {},
   "source": [
    "### Testing"
   ]
  },
  {
   "cell_type": "code",
   "execution_count": 13,
   "id": "2962734a",
   "metadata": {},
   "outputs": [
    {
     "data": {
      "text/plain": [
       "'cpu'"
      ]
     },
     "execution_count": 13,
     "metadata": {},
     "output_type": "execute_result"
    }
   ],
   "source": [
    "# torch.cuda.is_available()\n",
    "device"
   ]
  },
  {
   "cell_type": "code",
   "execution_count": 11,
   "id": "d3977d7d",
   "metadata": {},
   "outputs": [],
   "source": [
    "device = torch.device(\"cuda\" if torch.cuda.is_available else \"cpu\")\n",
    "device = \"cpu\"\n",
    "\n",
    "# creating sample src input\n",
    "x = (torch.multinomial(torch.tensor([1,2,3,4,5,6,7],dtype=torch.float), 16, replacement=True)\n",
    "     .reshape(2,-1)\n",
    "    .to(device))\n",
    "# creating sample trg output \n",
    "trg= (torch.multinomial(torch.tensor([1,2,3,4,5,8,9],dtype=torch.float), 16, replacement=True)\n",
    "     .reshape(2,-1)\n",
    "    .to(device))\n",
    "\n",
    "src_pad_idx = trg_pad_idx = 0 \n",
    "src_vocab_size = trg_vocab_size = 10"
   ]
  },
  {
   "cell_type": "code",
   "execution_count": 12,
   "id": "1228f8d7",
   "metadata": {},
   "outputs": [
    {
     "ename": "RuntimeError",
     "evalue": "CUDA unknown error - this may be due to an incorrectly set up environment, e.g. changing env variable CUDA_VISIBLE_DEVICES after program start. Setting the available devices to be zero.",
     "output_type": "error",
     "traceback": [
      "\u001b[0;31m---------------------------------------------------------------------------\u001b[0m",
      "\u001b[0;31mRuntimeError\u001b[0m                              Traceback (most recent call last)",
      "Input \u001b[0;32mIn [12]\u001b[0m, in \u001b[0;36m<cell line: 2>\u001b[0;34m()\u001b[0m\n\u001b[1;32m      1\u001b[0m model \u001b[38;5;241m=\u001b[39m Transformer(src_vocab_size, trg_vocab_size, src_pad_idx, trg_pad_idx)\u001b[38;5;241m.\u001b[39mto(device)\n\u001b[0;32m----> 2\u001b[0m out \u001b[38;5;241m=\u001b[39m \u001b[43mmodel\u001b[49m\u001b[43m(\u001b[49m\u001b[43mx\u001b[49m\u001b[43m,\u001b[49m\u001b[43m \u001b[49m\u001b[43mtrg\u001b[49m\u001b[43m[\u001b[49m\u001b[43m:\u001b[49m\u001b[43m,\u001b[49m\u001b[43m:\u001b[49m\u001b[38;5;241;43m-\u001b[39;49m\u001b[38;5;241;43m1\u001b[39;49m\u001b[43m]\u001b[49m\u001b[43m)\u001b[49m\n\u001b[1;32m      3\u001b[0m \u001b[38;5;28mprint\u001b[39m(out)\n",
      "File \u001b[0;32m~/.local/share/virtualenvs/transformer-ZSDFiGtT/lib/python3.8/site-packages/torch/nn/modules/module.py:1110\u001b[0m, in \u001b[0;36mModule._call_impl\u001b[0;34m(self, *input, **kwargs)\u001b[0m\n\u001b[1;32m   1106\u001b[0m \u001b[38;5;66;03m# If we don't have any hooks, we want to skip the rest of the logic in\u001b[39;00m\n\u001b[1;32m   1107\u001b[0m \u001b[38;5;66;03m# this function, and just call forward.\u001b[39;00m\n\u001b[1;32m   1108\u001b[0m \u001b[38;5;28;01mif\u001b[39;00m \u001b[38;5;129;01mnot\u001b[39;00m (\u001b[38;5;28mself\u001b[39m\u001b[38;5;241m.\u001b[39m_backward_hooks \u001b[38;5;129;01mor\u001b[39;00m \u001b[38;5;28mself\u001b[39m\u001b[38;5;241m.\u001b[39m_forward_hooks \u001b[38;5;129;01mor\u001b[39;00m \u001b[38;5;28mself\u001b[39m\u001b[38;5;241m.\u001b[39m_forward_pre_hooks \u001b[38;5;129;01mor\u001b[39;00m _global_backward_hooks\n\u001b[1;32m   1109\u001b[0m         \u001b[38;5;129;01mor\u001b[39;00m _global_forward_hooks \u001b[38;5;129;01mor\u001b[39;00m _global_forward_pre_hooks):\n\u001b[0;32m-> 1110\u001b[0m     \u001b[38;5;28;01mreturn\u001b[39;00m \u001b[43mforward_call\u001b[49m\u001b[43m(\u001b[49m\u001b[38;5;241;43m*\u001b[39;49m\u001b[38;5;28;43minput\u001b[39;49m\u001b[43m,\u001b[49m\u001b[43m \u001b[49m\u001b[38;5;241;43m*\u001b[39;49m\u001b[38;5;241;43m*\u001b[39;49m\u001b[43mkwargs\u001b[49m\u001b[43m)\u001b[49m\n\u001b[1;32m   1111\u001b[0m \u001b[38;5;66;03m# Do not call functions when jit is used\u001b[39;00m\n\u001b[1;32m   1112\u001b[0m full_backward_hooks, non_full_backward_hooks \u001b[38;5;241m=\u001b[39m [], []\n",
      "Input \u001b[0;32mIn [9]\u001b[0m, in \u001b[0;36mTransformer.forward\u001b[0;34m(self, src, trg)\u001b[0m\n\u001b[1;32m     47\u001b[0m \u001b[38;5;28;01mdef\u001b[39;00m \u001b[38;5;21mforward\u001b[39m(\u001b[38;5;28mself\u001b[39m, src, trg):\n\u001b[0;32m---> 48\u001b[0m     src_mask \u001b[38;5;241m=\u001b[39m \u001b[38;5;28;43mself\u001b[39;49m\u001b[38;5;241;43m.\u001b[39;49m\u001b[43mmake_src_mask\u001b[49m\u001b[43m(\u001b[49m\u001b[43msrc\u001b[49m\u001b[43m)\u001b[49m\n\u001b[1;32m     49\u001b[0m     trg_mask \u001b[38;5;241m=\u001b[39m \u001b[38;5;28mself\u001b[39m\u001b[38;5;241m.\u001b[39mmake_trg_mask(trg)\n\u001b[1;32m     50\u001b[0m     enc_src \u001b[38;5;241m=\u001b[39m \u001b[38;5;28mself\u001b[39m\u001b[38;5;241m.\u001b[39mencoder(src, src_mask)\n",
      "Input \u001b[0;32mIn [9]\u001b[0m, in \u001b[0;36mTransformer.make_src_mask\u001b[0;34m(self, src)\u001b[0m\n\u001b[1;32m     32\u001b[0m src_mask \u001b[38;5;241m=\u001b[39m (src \u001b[38;5;241m!=\u001b[39m \u001b[38;5;28mself\u001b[39m\u001b[38;5;241m.\u001b[39msrc_pad_idx)\u001b[38;5;241m.\u001b[39munsqueeze(\u001b[38;5;241m1\u001b[39m)\u001b[38;5;241m.\u001b[39munsqueeze(\u001b[38;5;241m2\u001b[39m)\n\u001b[1;32m     33\u001b[0m \u001b[38;5;66;03m# src_mask (N, 1, 1, src_len)\u001b[39;00m\n\u001b[0;32m---> 34\u001b[0m \u001b[38;5;28;01mreturn\u001b[39;00m \u001b[43msrc_mask\u001b[49m\u001b[38;5;241;43m.\u001b[39;49m\u001b[43mto\u001b[49m\u001b[43m(\u001b[49m\u001b[38;5;28;43mself\u001b[39;49m\u001b[38;5;241;43m.\u001b[39;49m\u001b[43mdevice\u001b[49m\u001b[43m)\u001b[49m\n",
      "File \u001b[0;32m~/.local/share/virtualenvs/transformer-ZSDFiGtT/lib/python3.8/site-packages/torch/cuda/__init__.py:216\u001b[0m, in \u001b[0;36m_lazy_init\u001b[0;34m()\u001b[0m\n\u001b[1;32m    212\u001b[0m     \u001b[38;5;28;01mraise\u001b[39;00m \u001b[38;5;167;01mAssertionError\u001b[39;00m(\n\u001b[1;32m    213\u001b[0m         \u001b[38;5;124m\"\u001b[39m\u001b[38;5;124mlibcudart functions unavailable. It looks like you have a broken build?\u001b[39m\u001b[38;5;124m\"\u001b[39m)\n\u001b[1;32m    214\u001b[0m \u001b[38;5;66;03m# This function throws if there's a driver initialization error, no GPUs\u001b[39;00m\n\u001b[1;32m    215\u001b[0m \u001b[38;5;66;03m# are found or any other error occurs\u001b[39;00m\n\u001b[0;32m--> 216\u001b[0m \u001b[43mtorch\u001b[49m\u001b[38;5;241;43m.\u001b[39;49m\u001b[43m_C\u001b[49m\u001b[38;5;241;43m.\u001b[39;49m\u001b[43m_cuda_init\u001b[49m\u001b[43m(\u001b[49m\u001b[43m)\u001b[49m\n\u001b[1;32m    217\u001b[0m \u001b[38;5;66;03m# Some of the queued calls may reentrantly call _lazy_init();\u001b[39;00m\n\u001b[1;32m    218\u001b[0m \u001b[38;5;66;03m# we need to just return without initializing in that case.\u001b[39;00m\n\u001b[1;32m    219\u001b[0m \u001b[38;5;66;03m# However, we must not let any *other* threads in!\u001b[39;00m\n\u001b[1;32m    220\u001b[0m _tls\u001b[38;5;241m.\u001b[39mis_initializing \u001b[38;5;241m=\u001b[39m \u001b[38;5;28;01mTrue\u001b[39;00m\n",
      "\u001b[0;31mRuntimeError\u001b[0m: CUDA unknown error - this may be due to an incorrectly set up environment, e.g. changing env variable CUDA_VISIBLE_DEVICES after program start. Setting the available devices to be zero."
     ]
    }
   ],
   "source": [
    "model = Transformer(src_vocab_size, trg_vocab_size, src_pad_idx, trg_pad_idx).to(device)\n",
    "out = model(x, trg[:,:-1])\n",
    "print(out)"
   ]
  }
 ],
 "metadata": {
  "kernelspec": {
   "display_name": "transformer-ZSDFiGtT",
   "language": "python",
   "name": "transformer-zsdfigtt"
  },
  "language_info": {
   "codemirror_mode": {
    "name": "ipython",
    "version": 3
   },
   "file_extension": ".py",
   "mimetype": "text/x-python",
   "name": "python",
   "nbconvert_exporter": "python",
   "pygments_lexer": "ipython3",
   "version": "3.8.2"
  }
 },
 "nbformat": 4,
 "nbformat_minor": 5
}
